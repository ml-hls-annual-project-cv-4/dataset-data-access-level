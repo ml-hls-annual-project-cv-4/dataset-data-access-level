{
 "cells": [
  {
   "cell_type": "markdown",
   "source": [
    "Подключение пространства имен с сервисом данных, работающий с json"
   ],
   "metadata": {
    "collapsed": false,
    "pycharm": {
     "name": "#%% md\n"
    }
   }
  },
  {
   "cell_type": "code",
   "execution_count": 1,
   "metadata": {
    "collapsed": true,
    "pycharm": {
     "name": "#%%\n"
    }
   },
   "outputs": [],
   "source": [
    "from src.Factories.JsonDataSvcFactory import DataServiceFactory"
   ]
  },
  {
   "cell_type": "markdown",
   "source": [
    "Клиентская часть для использования сервиса данных"
   ],
   "metadata": {
    "collapsed": false,
    "pycharm": {
     "name": "#%% md\n"
    }
   }
  },
  {
   "cell_type": "code",
   "execution_count": 2,
   "outputs": [
    {
     "name": "stdout",
     "output_type": "stream",
     "text": [
      "Вывод уникальных категорий:\n",
      "bike: 7210\n",
      "bus: 11672\n",
      "car: 713211\n",
      "drivable area: 125723\n",
      "lane: 528643\n",
      "motor: 3002\n",
      "person: 91349\n",
      "rider: 4517\n",
      "traffic light: 186117\n",
      "traffic sign: 239686\n",
      "train: 136\n",
      "truck: 29971\n",
      "\n",
      "Вывод уникальных сцен:\n",
      "city street: 43516\n",
      "gas stations: 27\n",
      "highway: 17379\n",
      "parking lot: 377\n",
      "residential: 8074\n",
      "tunnel: 129\n",
      "undefined: 361\n",
      "\n",
      "Вывод уникальных погод:\n",
      "clear: 37344\n",
      "foggy: 130\n",
      "overcast: 8770\n",
      "partly cloudy: 4881\n",
      "rainy: 5070\n",
      "snowy: 5549\n",
      "undefined: 8119\n",
      "\n",
      "Вывод уникальных частей дня:\n",
      "dawn/dusk: 5027\n",
      "daytime: 36728\n",
      "night: 27971\n",
      "undefined: 137\n"
     ]
    }
   ],
   "source": [
    "factory = DataServiceFactory()\n",
    "\n",
    "edaDataService = factory.GetEDADataService('../files/bdd100k_labels_images_train.json')\n",
    "categories = edaDataService.GetCategories()\n",
    "\n",
    "print('Вывод уникальных категорий:')\n",
    "for category in categories:\n",
    "    print(category, edaDataService.GetCategoryCount(category), sep=': ')\n",
    "\n",
    "scenes = edaDataService.GetScenes()\n",
    "\n",
    "print('\\nВывод уникальных сцен:')\n",
    "for scene in scenes:\n",
    "    print(scene, edaDataService.GetSceneCount(scene), sep=': ')\n",
    "\n",
    "weathers = edaDataService.GetWeathers()\n",
    "\n",
    "print('\\nВывод уникальных погод:')\n",
    "for weather in weathers:\n",
    "    print(weather, edaDataService.GetWeatherCount(weather), sep=': ')\n",
    "\n",
    "timesOfDay = edaDataService.GetTimesOfDay()\n",
    "\n",
    "print('\\nВывод уникальных частей дня:')\n",
    "for timeOfDay in timesOfDay:\n",
    "    print(timeOfDay, edaDataService.GetTimeOfDayCount(timeOfDay), sep=': ')"
   ],
   "metadata": {
    "collapsed": false,
    "pycharm": {
     "name": "#%%\n"
    }
   }
  },
  {
   "cell_type": "markdown",
   "source": [
    "Подключение модуля для графиков"
   ],
   "metadata": {
    "collapsed": false,
    "pycharm": {
     "name": "#%% md\n"
    }
   }
  },
  {
   "cell_type": "code",
   "execution_count": null,
   "outputs": [],
   "source": [
    "from matplotlib import *"
   ],
   "metadata": {
    "collapsed": false,
    "pycharm": {
     "name": "#%%\n"
    }
   }
  },
  {
   "cell_type": "code",
   "execution_count": null,
   "outputs": [],
   "source": [],
   "metadata": {
    "collapsed": false,
    "pycharm": {
     "name": "#%%\n"
    }
   }
  }
 ],
 "metadata": {
  "kernelspec": {
   "display_name": "Python 3",
   "language": "python",
   "name": "python3"
  },
  "language_info": {
   "codemirror_mode": {
    "name": "ipython",
    "version": 2
   },
   "file_extension": ".py",
   "mimetype": "text/x-python",
   "name": "python",
   "nbconvert_exporter": "python",
   "pygments_lexer": "ipython2",
   "version": "2.7.6"
  }
 },
 "nbformat": 4,
 "nbformat_minor": 0
}